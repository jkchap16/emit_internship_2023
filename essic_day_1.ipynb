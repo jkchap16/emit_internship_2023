{
 "cells": [
  {
   "cell_type": "code",
   "execution_count": 1,
   "id": "95291c07",
   "metadata": {},
   "outputs": [],
   "source": [
    "import geopandas as gpd\n",
    "import pandas as pd\n",
    "import numpy as np"
   ]
  },
  {
   "cell_type": "code",
   "execution_count": 2,
   "id": "45c86e87",
   "metadata": {},
   "outputs": [],
   "source": [
    "import s3fs\n",
    "import datetime\n",
    "from pathlib import Path\n",
    "import xarray as xr\n",
    "import pandas as pd\n",
    "import os"
   ]
  },
  {
   "cell_type": "code",
   "execution_count": 5,
   "id": "d16c9b80",
   "metadata": {},
   "outputs": [],
   "source": [
    "fname = \"C:/Users/janna/Downloads/data/VIIRS_AF_j01_s202304220518119_e202304220519346.csv\"\n",
    "fires = pd.read_csv(fname, sep=',\\s*', engine='python')"
   ]
  },
  {
   "cell_type": "code",
   "execution_count": 10,
   "id": "b616c438",
   "metadata": {},
   "outputs": [],
   "source": [
    "aus_fires = fires['frp(MW)'][fires['frp(MW)']>50]"
   ]
  },
  {
   "cell_type": "code",
   "execution_count": 11,
   "id": "6846b8e8",
   "metadata": {},
   "outputs": [
    {
     "data": {
      "text/plain": [
       "(150.31591393975904, 39.17427120298508)"
      ]
     },
     "execution_count": 11,
     "metadata": {},
     "output_type": "execute_result"
    }
   ],
   "source": [
    "aus_fires.mean(), fires['frp(MW)'].mean()"
   ]
  },
  {
   "cell_type": "code",
   "execution_count": 15,
   "id": "9804b3ce",
   "metadata": {},
   "outputs": [],
   "source": [
    "masked_num = fires['frp(MW)']>50"
   ]
  },
  {
   "cell_type": "code",
   "execution_count": 16,
   "id": "89ebfbbc",
   "metadata": {},
   "outputs": [
    {
     "data": {
      "text/plain": [
       "masked_array(data=[--, --, --, --, --, --, --, --, --, --, --, --, --, --,\n",
       "                   --, --, --, --, --, --, --, --, --, --, --, --, --, --,\n",
       "                   --, --, --, 50.816017, 50.816017, --, --, 50.816017,\n",
       "                   --, --, --, --, --, --, --, --, 80.07047, 58.458668,\n",
       "                   58.458668, 80.07047, 58.458668, --, --, --, --, --, --,\n",
       "                   --, --, --, --, --, --, --, --, --, --, --, --, --, --,\n",
       "                   --, --, --, --, --, --, --, --, --, --, --, --, --, --,\n",
       "                   --, --, --, --, --, --, --, --, --, --, --, --, --, --,\n",
       "                   --, --, --, --, --, --, --, --, --, --, --, --, --, --,\n",
       "                   --, --, --, --, --, --, --, --, --, --, --, --, --, --,\n",
       "                   --, --, 208.6666, 208.6666, 208.6666, 208.6666, --, --,\n",
       "                   118.52038, --, --, --, --, 155.55026, 116.77331, --,\n",
       "                   82.00435, 82.00435, 155.55026, 116.77331, 58.945686,\n",
       "                   --, 58.945686, 155.55026, 155.55026, 116.77331, --, --,\n",
       "                   --, 116.77331, 58.945686, 58.945686, --, 205.88177,\n",
       "                   205.88177, 124.562, --, --, 94.4637, 94.4637, 124.562,\n",
       "                   --, 56.434856, --, 94.4637, 124.562, 105.908844, --,\n",
       "                   --, 205.88177, --, --, --, 114.47905, 105.908844,\n",
       "                   56.434856, --, 94.4637, 56.434856, 98.612434, --, --,\n",
       "                   --, 112.90164, 106.76007, 68.89047, 174.82906,\n",
       "                   94.12691, 124.65684, 59.800552, --, --, --, --,\n",
       "                   94.12691, 124.65684, 94.12691, 124.65684, 96.73402, --,\n",
       "                   --, 174.82906, 94.12691, --, --, --, 136.53563,\n",
       "                   96.73402, 174.82906, 124.65684, --, --, --, --, --, --,\n",
       "                   --, --, --, --, --, --, --, 110.589386, --, --, --, --,\n",
       "                   --, --, --, --, --, --, --, 270.42194, 145.81807, --,\n",
       "                   --, 270.42194, 270.42194, 145.81807, --, 145.81807, --,\n",
       "                   --, 121.01062, 221.04068, 78.61103, --, 121.01062,\n",
       "                   221.04068, 78.61103, --, --, 665.56696, 665.56696,\n",
       "                   221.04068, --, --, --, 121.01062, 221.04068, 665.56696,\n",
       "                   78.61103, --, 665.56696, --, --, --, --, --, --, --,\n",
       "                   --, --, --, --, --, --, --, --, --, --, --, --, --, --,\n",
       "                   --, --, --, --, --, --, --, --, --, --, --, --, --, --,\n",
       "                   --, --, --, --, --, --, --, --, --, --, --, --, --, --,\n",
       "                   --, --, --, --, --, --, --, --, --, --, --, --, --, --,\n",
       "                   --, --, --, --, --, --, --, --, --, --, --, --, --, --,\n",
       "                   --, --, --, --, --, --, --, --, --, --, --, --, --, --,\n",
       "                   --, --, --, --, --, --, --, --, --, --, --, --, --, --,\n",
       "                   --, --, --, --, --, --, --, --, --, --, --, --, --, --,\n",
       "                   --, --, --, --, --, --, --, --, --, --, --],\n",
       "             mask=[ True,  True,  True,  True,  True,  True,  True,  True,\n",
       "                    True,  True,  True,  True,  True,  True,  True,  True,\n",
       "                    True,  True,  True,  True,  True,  True,  True,  True,\n",
       "                    True,  True,  True,  True,  True,  True,  True, False,\n",
       "                   False,  True,  True, False,  True,  True,  True,  True,\n",
       "                    True,  True,  True,  True, False, False, False, False,\n",
       "                   False,  True,  True,  True,  True,  True,  True,  True,\n",
       "                    True,  True,  True,  True,  True,  True,  True,  True,\n",
       "                    True,  True,  True,  True,  True,  True,  True,  True,\n",
       "                    True,  True,  True,  True,  True,  True,  True,  True,\n",
       "                    True,  True,  True,  True,  True,  True,  True,  True,\n",
       "                    True,  True,  True,  True,  True,  True,  True,  True,\n",
       "                    True,  True,  True,  True,  True,  True,  True,  True,\n",
       "                    True,  True,  True,  True,  True,  True,  True,  True,\n",
       "                    True,  True,  True,  True,  True,  True,  True,  True,\n",
       "                    True,  True,  True,  True,  True,  True,  True, False,\n",
       "                   False, False, False,  True,  True, False,  True,  True,\n",
       "                    True,  True, False, False,  True, False, False, False,\n",
       "                   False, False,  True, False, False, False, False,  True,\n",
       "                    True,  True, False, False, False,  True, False, False,\n",
       "                   False,  True,  True, False, False, False,  True, False,\n",
       "                    True, False, False, False,  True,  True, False,  True,\n",
       "                    True,  True, False, False, False,  True, False, False,\n",
       "                   False,  True,  True,  True, False, False, False, False,\n",
       "                   False, False, False,  True,  True,  True,  True, False,\n",
       "                   False, False, False, False,  True,  True, False, False,\n",
       "                    True,  True,  True, False, False, False, False,  True,\n",
       "                    True,  True,  True,  True,  True,  True,  True,  True,\n",
       "                    True,  True,  True,  True, False,  True,  True,  True,\n",
       "                    True,  True,  True,  True,  True,  True,  True,  True,\n",
       "                   False, False,  True,  True, False, False, False,  True,\n",
       "                   False,  True,  True, False, False, False,  True, False,\n",
       "                   False, False,  True,  True, False, False, False,  True,\n",
       "                    True,  True, False, False, False, False,  True, False,\n",
       "                    True,  True,  True,  True,  True,  True,  True,  True,\n",
       "                    True,  True,  True,  True,  True,  True,  True,  True,\n",
       "                    True,  True,  True,  True,  True,  True,  True,  True,\n",
       "                    True,  True,  True,  True,  True,  True,  True,  True,\n",
       "                    True,  True,  True,  True,  True,  True,  True,  True,\n",
       "                    True,  True,  True,  True,  True,  True,  True,  True,\n",
       "                    True,  True,  True,  True,  True,  True,  True,  True,\n",
       "                    True,  True,  True,  True,  True,  True,  True,  True,\n",
       "                    True,  True,  True,  True,  True,  True,  True,  True,\n",
       "                    True,  True,  True,  True,  True,  True,  True,  True,\n",
       "                    True,  True,  True,  True,  True,  True,  True,  True,\n",
       "                    True,  True,  True,  True,  True,  True,  True,  True,\n",
       "                    True,  True,  True,  True,  True,  True,  True,  True,\n",
       "                    True,  True,  True,  True,  True,  True,  True,  True,\n",
       "                    True,  True,  True,  True,  True,  True,  True,  True,\n",
       "                    True,  True,  True,  True,  True,  True,  True,  True,\n",
       "                    True,  True],\n",
       "       fill_value=-999.0)"
      ]
     },
     "execution_count": 16,
     "metadata": {},
     "output_type": "execute_result"
    }
   ],
   "source": [
    "aus_fires_ma = np.ma.array(fires['frp(MW)'], mask=~ masked_num, fill_value=-999)\n",
    "aus_fires_ma"
   ]
  },
  {
   "cell_type": "code",
   "execution_count": 17,
   "id": "75e832c1",
   "metadata": {},
   "outputs": [
    {
     "data": {
      "text/plain": [
       "150.315913939759"
      ]
     },
     "execution_count": 17,
     "metadata": {},
     "output_type": "execute_result"
    }
   ],
   "source": [
    "aus_fires_ma.mean()"
   ]
  },
  {
   "cell_type": "code",
   "execution_count": 19,
   "id": "5afcbef3",
   "metadata": {},
   "outputs": [
    {
     "data": {
      "text/html": [
       "<div>\n",
       "<style scoped>\n",
       "    .dataframe tbody tr th:only-of-type {\n",
       "        vertical-align: middle;\n",
       "    }\n",
       "\n",
       "    .dataframe tbody tr th {\n",
       "        vertical-align: top;\n",
       "    }\n",
       "\n",
       "    .dataframe thead th {\n",
       "        text-align: right;\n",
       "    }\n",
       "</style>\n",
       "<table border=\"1\" class=\"dataframe\">\n",
       "  <thead>\n",
       "    <tr style=\"text-align: right;\">\n",
       "      <th></th>\n",
       "      <th>Date(dd:mm:yyyy)</th>\n",
       "      <th>Time(hh:mm:ss)</th>\n",
       "      <th>Day_of_Year</th>\n",
       "      <th>Day_of_Year(Fraction)</th>\n",
       "      <th>AOD_1640nm</th>\n",
       "      <th>AOD_1020nm</th>\n",
       "      <th>AOD_870nm</th>\n",
       "      <th>AOD_865nm</th>\n",
       "      <th>AOD_779nm</th>\n",
       "      <th>AOD_675nm</th>\n",
       "      <th>...</th>\n",
       "      <th>Exact_Wavelengths_of_AOD(um)_380nm</th>\n",
       "      <th>Exact_Wavelengths_of_AOD(um)_340nm</th>\n",
       "      <th>Exact_Wavelengths_of_PW(um)_935nm</th>\n",
       "      <th>Exact_Wavelengths_of_AOD(um)_681nm</th>\n",
       "      <th>Exact_Wavelengths_of_AOD(um)_709nm</th>\n",
       "      <th>Exact_Wavelengths_of_AOD(um)_Empty</th>\n",
       "      <th>Exact_Wavelengths_of_AOD(um)_Empty.1</th>\n",
       "      <th>Exact_Wavelengths_of_AOD(um)_Empty.2</th>\n",
       "      <th>Exact_Wavelengths_of_AOD(um)_Empty.3</th>\n",
       "      <th>Exact_Wavelengths_of_AOD(um)_Empty.4</th>\n",
       "    </tr>\n",
       "  </thead>\n",
       "  <tbody>\n",
       "    <tr>\n",
       "      <th>0</th>\n",
       "      <td>08:04:2023</td>\n",
       "      <td>23:20:54</td>\n",
       "      <td>98</td>\n",
       "      <td>98.972847</td>\n",
       "      <td>-999.0</td>\n",
       "      <td>0.040462</td>\n",
       "      <td>0.043801</td>\n",
       "      <td>-999.0</td>\n",
       "      <td>-999.0</td>\n",
       "      <td>0.047209</td>\n",
       "      <td>...</td>\n",
       "      <td>0.3808</td>\n",
       "      <td>0.3401</td>\n",
       "      <td>0.936</td>\n",
       "      <td>-999.0</td>\n",
       "      <td>-999.0</td>\n",
       "      <td>-999.0</td>\n",
       "      <td>-999.0</td>\n",
       "      <td>-999.0</td>\n",
       "      <td>-999.0</td>\n",
       "      <td>-999.0</td>\n",
       "    </tr>\n",
       "    <tr>\n",
       "      <th>1</th>\n",
       "      <td>08:04:2023</td>\n",
       "      <td>23:23:00</td>\n",
       "      <td>98</td>\n",
       "      <td>98.974306</td>\n",
       "      <td>-999.0</td>\n",
       "      <td>0.039768</td>\n",
       "      <td>0.042688</td>\n",
       "      <td>-999.0</td>\n",
       "      <td>-999.0</td>\n",
       "      <td>0.046141</td>\n",
       "      <td>...</td>\n",
       "      <td>0.3808</td>\n",
       "      <td>0.3401</td>\n",
       "      <td>0.936</td>\n",
       "      <td>-999.0</td>\n",
       "      <td>-999.0</td>\n",
       "      <td>-999.0</td>\n",
       "      <td>-999.0</td>\n",
       "      <td>-999.0</td>\n",
       "      <td>-999.0</td>\n",
       "      <td>-999.0</td>\n",
       "    </tr>\n",
       "    <tr>\n",
       "      <th>2</th>\n",
       "      <td>08:04:2023</td>\n",
       "      <td>23:31:37</td>\n",
       "      <td>98</td>\n",
       "      <td>98.980289</td>\n",
       "      <td>-999.0</td>\n",
       "      <td>0.040011</td>\n",
       "      <td>0.043069</td>\n",
       "      <td>-999.0</td>\n",
       "      <td>-999.0</td>\n",
       "      <td>0.046833</td>\n",
       "      <td>...</td>\n",
       "      <td>0.3808</td>\n",
       "      <td>0.3401</td>\n",
       "      <td>0.936</td>\n",
       "      <td>-999.0</td>\n",
       "      <td>-999.0</td>\n",
       "      <td>-999.0</td>\n",
       "      <td>-999.0</td>\n",
       "      <td>-999.0</td>\n",
       "      <td>-999.0</td>\n",
       "      <td>-999.0</td>\n",
       "    </tr>\n",
       "    <tr>\n",
       "      <th>3</th>\n",
       "      <td>08:04:2023</td>\n",
       "      <td>23:33:32</td>\n",
       "      <td>98</td>\n",
       "      <td>98.981620</td>\n",
       "      <td>-999.0</td>\n",
       "      <td>0.039021</td>\n",
       "      <td>0.041912</td>\n",
       "      <td>-999.0</td>\n",
       "      <td>-999.0</td>\n",
       "      <td>0.045663</td>\n",
       "      <td>...</td>\n",
       "      <td>0.3808</td>\n",
       "      <td>0.3401</td>\n",
       "      <td>0.936</td>\n",
       "      <td>-999.0</td>\n",
       "      <td>-999.0</td>\n",
       "      <td>-999.0</td>\n",
       "      <td>-999.0</td>\n",
       "      <td>-999.0</td>\n",
       "      <td>-999.0</td>\n",
       "      <td>-999.0</td>\n",
       "    </tr>\n",
       "    <tr>\n",
       "      <th>4</th>\n",
       "      <td>08:04:2023</td>\n",
       "      <td>23:35:55</td>\n",
       "      <td>98</td>\n",
       "      <td>98.983275</td>\n",
       "      <td>-999.0</td>\n",
       "      <td>0.038642</td>\n",
       "      <td>0.041935</td>\n",
       "      <td>-999.0</td>\n",
       "      <td>-999.0</td>\n",
       "      <td>0.045361</td>\n",
       "      <td>...</td>\n",
       "      <td>0.3808</td>\n",
       "      <td>0.3401</td>\n",
       "      <td>0.936</td>\n",
       "      <td>-999.0</td>\n",
       "      <td>-999.0</td>\n",
       "      <td>-999.0</td>\n",
       "      <td>-999.0</td>\n",
       "      <td>-999.0</td>\n",
       "      <td>-999.0</td>\n",
       "      <td>-999.0</td>\n",
       "    </tr>\n",
       "  </tbody>\n",
       "</table>\n",
       "<p>5 rows × 113 columns</p>\n",
       "</div>"
      ],
      "text/plain": [
       "  Date(dd:mm:yyyy) Time(hh:mm:ss)  Day_of_Year  Day_of_Year(Fraction)  \\\n",
       "0       08:04:2023       23:20:54           98              98.972847   \n",
       "1       08:04:2023       23:23:00           98              98.974306   \n",
       "2       08:04:2023       23:31:37           98              98.980289   \n",
       "3       08:04:2023       23:33:32           98              98.981620   \n",
       "4       08:04:2023       23:35:55           98              98.983275   \n",
       "\n",
       "   AOD_1640nm  AOD_1020nm  AOD_870nm  AOD_865nm  AOD_779nm  AOD_675nm  ...  \\\n",
       "0      -999.0    0.040462   0.043801     -999.0     -999.0   0.047209  ...   \n",
       "1      -999.0    0.039768   0.042688     -999.0     -999.0   0.046141  ...   \n",
       "2      -999.0    0.040011   0.043069     -999.0     -999.0   0.046833  ...   \n",
       "3      -999.0    0.039021   0.041912     -999.0     -999.0   0.045663  ...   \n",
       "4      -999.0    0.038642   0.041935     -999.0     -999.0   0.045361  ...   \n",
       "\n",
       "   Exact_Wavelengths_of_AOD(um)_380nm  Exact_Wavelengths_of_AOD(um)_340nm  \\\n",
       "0                              0.3808                              0.3401   \n",
       "1                              0.3808                              0.3401   \n",
       "2                              0.3808                              0.3401   \n",
       "3                              0.3808                              0.3401   \n",
       "4                              0.3808                              0.3401   \n",
       "\n",
       "   Exact_Wavelengths_of_PW(um)_935nm  Exact_Wavelengths_of_AOD(um)_681nm  \\\n",
       "0                              0.936                              -999.0   \n",
       "1                              0.936                              -999.0   \n",
       "2                              0.936                              -999.0   \n",
       "3                              0.936                              -999.0   \n",
       "4                              0.936                              -999.0   \n",
       "\n",
       "   Exact_Wavelengths_of_AOD(um)_709nm  Exact_Wavelengths_of_AOD(um)_Empty  \\\n",
       "0                              -999.0                              -999.0   \n",
       "1                              -999.0                              -999.0   \n",
       "2                              -999.0                              -999.0   \n",
       "3                              -999.0                              -999.0   \n",
       "4                              -999.0                              -999.0   \n",
       "\n",
       "   Exact_Wavelengths_of_AOD(um)_Empty.1  Exact_Wavelengths_of_AOD(um)_Empty.2  \\\n",
       "0                                -999.0                                -999.0   \n",
       "1                                -999.0                                -999.0   \n",
       "2                                -999.0                                -999.0   \n",
       "3                                -999.0                                -999.0   \n",
       "4                                -999.0                                -999.0   \n",
       "\n",
       "   Exact_Wavelengths_of_AOD(um)_Empty.3  Exact_Wavelengths_of_AOD(um)_Empty.4  \n",
       "0                                -999.0                                -999.0  \n",
       "1                                -999.0                                -999.0  \n",
       "2                                -999.0                                -999.0  \n",
       "3                                -999.0                                -999.0  \n",
       "4                                -999.0                                -999.0  \n",
       "\n",
       "[5 rows x 113 columns]"
      ]
     },
     "execution_count": 19,
     "metadata": {},
     "output_type": "execute_result"
    }
   ],
   "source": [
    "aeronet = pd.read_csv(r\"C:\\Users\\janna\\Downloads\\data\\20230401_20230430_Lake_Lefroy.lev15\")\n",
    "aeronet.head()"
   ]
  },
  {
   "cell_type": "code",
   "execution_count": 26,
   "id": "000d7532",
   "metadata": {},
   "outputs": [],
   "source": [
    "mask = aeronet['AOD_870nm']>0"
   ]
  },
  {
   "cell_type": "code",
   "execution_count": 27,
   "id": "aa3818cd",
   "metadata": {},
   "outputs": [
    {
     "data": {
      "text/plain": [
       "0        98.972847\n",
       "1        98.974306\n",
       "2        98.980289\n",
       "3        98.981620\n",
       "4        98.983275\n",
       "           ...    \n",
       "1291    113.350856\n",
       "1292    113.354595\n",
       "1293    113.357650\n",
       "1294    113.360231\n",
       "1295    113.361736\n",
       "Name: Day_of_Year(Fraction), Length: 1294, dtype: float64"
      ]
     },
     "execution_count": 27,
     "metadata": {},
     "output_type": "execute_result"
    }
   ],
   "source": [
    "day_of_year = aeronet[\"Day_of_Year(Fraction)\"][mask]\n",
    "day_of_year"
   ]
  },
  {
   "cell_type": "code",
   "execution_count": 29,
   "id": "d9f4e359",
   "metadata": {},
   "outputs": [
    {
     "data": {
      "text/plain": [
       "-1.5111960432098768"
      ]
     },
     "execution_count": 29,
     "metadata": {},
     "output_type": "execute_result"
    }
   ],
   "source": [
    "aeronet['AOD_870nm'].mean()"
   ]
  },
  {
   "cell_type": "code",
   "execution_count": 28,
   "id": "a87fc9ca",
   "metadata": {},
   "outputs": [],
   "source": [
    "aod_870 = aeronet[\"AOD_870nm\"][mask]"
   ]
  },
  {
   "cell_type": "code",
   "execution_count": 30,
   "id": "40aa4f96",
   "metadata": {},
   "outputs": [
    {
     "data": {
      "text/plain": [
       "0.030517718701700152"
      ]
     },
     "execution_count": 30,
     "metadata": {},
     "output_type": "execute_result"
    }
   ],
   "source": [
    "aod_870.mean()"
   ]
  },
  {
   "cell_type": "code",
   "execution_count": 31,
   "id": "71b909bc",
   "metadata": {},
   "outputs": [],
   "source": [
    "import matplotlib.pyplot as plt"
   ]
  },
  {
   "cell_type": "code",
   "execution_count": 32,
   "id": "51a434f0",
   "metadata": {},
   "outputs": [],
   "source": [
    "bins10MW = np.arange(0,300,10)\n"
   ]
  },
  {
   "cell_type": "code",
   "execution_count": 34,
   "id": "55a5b848",
   "metadata": {},
   "outputs": [
    {
     "data": {
      "image/png": "[encoded data removed]",
      "text/plain": [
       "<Figure size 500x500 with 1 Axes>"
      ]
     },
     "metadata": {},
     "output_type": "display_data"
    }
   ],
   "source": [
    "plt.figure(figsize=[5,5])\n",
    "plt.hist(fires['frp(MW)'], bins=bins10MW)\n",
    "plt.show()"
   ]
  },
  {
   "cell_type": "code",
   "execution_count": 35,
   "id": "22f3ed42",
   "metadata": {},
   "outputs": [
    {
     "data": {
      "image/png": "[encoded data removed]",
      "text/plain": [
       "<Figure size 640x480 with 1 Axes>"
      ]
     },
     "metadata": {},
     "output_type": "display_data"
    }
   ],
   "source": [
    "plt.figure()\n",
    "\n",
    "ax = plt.subplot(111)\n",
    "\n",
    "ax.hist(fires['frp(MW)'], bins=bins10MW)\n",
    "\n",
    "ax.set_yscale('log')\n",
    "\n",
    "ax.set_xlabel(\"Fire Radiative Power (MW)\")\n",
    "ax.set_ylabel(\"Counts\")\n",
    "\n",
    "plt.show()"
   ]
  },
  {
   "cell_type": "code",
   "execution_count": 36,
   "id": "51d9f4f5",
   "metadata": {},
   "outputs": [
    {
     "data": {
      "image/png": "[encoded data removed]",
      "text/plain": [
       "<Figure size 640x480 with 1 Axes>"
      ]
     },
     "metadata": {},
     "output_type": "display_data"
    }
   ],
   "source": [
    "fig = plt.figure()\n",
    "ax = plt.subplot(111)\n",
    "\n",
    "ax.scatter(fires['Lon'], fires['Lat'], s=5, c='black', alpha=0.1)\n",
    "\n",
    "ax.set_xlabel('Longitude')\n",
    "ax.set_ylabel('Latitude')\n",
    "\n",
    "plt.show()"
   ]
  },
  {
   "cell_type": "code",
   "execution_count": 42,
   "id": "51554ba0",
   "metadata": {},
   "outputs": [
    {
     "data": {
      "text/plain": [
       "Text(0, 0.5, 'AOD 870nm')"
      ]
     },
     "execution_count": 42,
     "metadata": {},
     "output_type": "execute_result"
    },
    {
     "data": {
      "image/png": "[encoded data removed]",
      "text/plain": [
       "<Figure size 640x480 with 1 Axes>"
      ]
     },
     "metadata": {},
     "output_type": "display_data"
    }
   ],
   "source": [
    "fig,ax = plt.subplots()\n",
    "ax.scatter(day_of_year, aod_870, s=5, c = 'blue')\n",
    "ax.set_xlabel('Day of Year')\n",
    "ax.set_ylabel('AOD 870nm')"
   ]
  }
 ],
 "metadata": {
  "kernelspec": {
   "display_name": "Python 3 (ipykernel)",
   "language": "python",
   "name": "python3"
  },
  "language_info": {
   "codemirror_mode": {
    "name": "ipython",
    "version": 3
   },
   "file_extension": ".py",
   "mimetype": "text/x-python",
   "name": "python",
   "nbconvert_exporter": "python",
   "pygments_lexer": "ipython3",
   "version": "3.10.9"
  }
 },
 "nbformat": 4,
 "nbformat_minor": 5
}
